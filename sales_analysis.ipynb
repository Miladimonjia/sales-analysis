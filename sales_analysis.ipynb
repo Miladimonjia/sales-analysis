{
 "cells": [
  {
   "cell_type": "markdown",
   "id": "4e1b28f2",
   "metadata": {},
   "source": [
    "# 📊 Analyse des Ventes avec Python"
   ]
  },
  {
   "cell_type": "code",
   "execution_count": null,
   "id": "113c280a",
   "metadata": {},
   "outputs": [],
   "source": [
    "\n",
    "import pandas as pd\n",
    "import matplotlib.pyplot as plt\n",
    "\n",
    "# Charger les données\n",
    "df = pd.read_csv(\"sales_data.csv\")\n",
    "\n",
    "# Aperçu des données\n",
    "print(df.head())\n",
    "\n",
    "# Quantité totale vendue par produit\n",
    "df.groupby(\"Produit\")[\"Quantité\"].sum().plot(kind=\"bar\", color='skyblue')\n",
    "plt.title(\"Quantité vendue par produit\")\n",
    "plt.xlabel(\"Produit\")\n",
    "plt.ylabel(\"Quantité\")\n",
    "plt.grid(True)\n",
    "plt.tight_layout()\n",
    "plt.show()\n"
   ]
  }
 ],
 "metadata": {},
 "nbformat": 4,
 "nbformat_minor": 5
}
