import pandas as pd
import matplotlib.pyplot as plt

# Chargement des données
df = pd.read_csv("sales_data.csv")

# Aperçu
print(df.head())

# Calcul du chiffre d'affaires par ligne
df["Chiffre_affaires"] = df["Quantité"] * df["Prix_unitaire"]

# CA total
total_ca = df["Chiffre_affaires"].sum()
print(f"💰 Chiffre d'affaires total : {total_ca:.2f} €")

# CA par catégorie
ca_par_categorie = df.groupby("Catégorie")["Chiffre_affaires"].sum()

# Visualisation
ca_par_categorie.plot(kind="bar", title="Chiffre d'affaires par catégorie", color="skyblue")
plt.ylabel("€")
plt.show()
